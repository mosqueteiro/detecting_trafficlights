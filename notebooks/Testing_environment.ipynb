{
 "cells": [
  {
   "cell_type": "markdown",
   "metadata": {},
   "source": [
    "# Checking docker setup\n",
    "\n",
    "## loading needed packages"
   ]
  },
  {
   "cell_type": "code",
   "execution_count": 1,
   "metadata": {},
   "outputs": [
    {
     "name": "stderr",
     "output_type": "stream",
     "text": [
      "Using TensorFlow backend.\n"
     ]
    }
   ],
   "source": [
    "import tensorflow as tf\n",
    "from keras.models import Sequential, Model, load_model\n",
    "from keras.layers import Dense, Dropout, Activation, Flatten\n",
    "from keras.layers import Convolution2D, MaxPooling2D, BatchNormalization\n",
    "from keras.layers.convolutional import Conv2D\n",
    "from keras.utils import np_utils\n",
    "from keras.callbacks import TensorBoard, EarlyStopping, ModelCheckpoint\n",
    "from keras.preprocessing.image import ImageDataGenerator\n",
    "from keras.preprocessing.image import array_to_img, img_to_array, load_img\n",
    "from sklearn.model_selection import train_test_split, KFold\n",
    "import sklearn.metrics as metrics\n",
    "\n",
    "import numpy as np\n",
    "import pandas as pd\n",
    "import matplotlib.pyplot as plt\n",
    "\n",
    "import sys\n",
    "sys.path.append('../src')"
   ]
  },
  {
   "cell_type": "code",
   "execution_count": null,
   "metadata": {},
   "outputs": [],
   "source": [
    "# start auto-reloading certain libraries marked with %aimport\n",
    "%load_ext autoreload\n",
    "%autoreload 1\n",
    "# add new source file to auto-reload\n",
    "%aimport ..src._funcs_\n",
    "# add function from auto-reloading module\n",
    "from src._funcs_ import func"
   ]
  },
  {
   "cell_type": "markdown",
   "metadata": {},
   "source": [
    "## Testing out psycopg2"
   ]
  },
  {
   "cell_type": "code",
   "execution_count": 1,
   "metadata": {
    "scrolled": true
   },
   "outputs": [],
   "source": [
    "from psycopg2 import connect"
   ]
  },
  {
   "cell_type": "code",
   "execution_count": 2,
   "metadata": {},
   "outputs": [],
   "source": [
    "conn = connect(user='postgres', host='pg_serv')"
   ]
  },
  {
   "cell_type": "code",
   "execution_count": 3,
   "metadata": {},
   "outputs": [],
   "source": [
    "conn_train = connect(dbname='train2017', user='postgres', host='pg_serv')"
   ]
  },
  {
   "cell_type": "code",
   "execution_count": 4,
   "metadata": {},
   "outputs": [],
   "source": [
    "conn_val = connect(dbname='val2017', user='postgres', host='pg_serv')"
   ]
  },
  {
   "cell_type": "code",
   "execution_count": 6,
   "metadata": {},
   "outputs": [],
   "source": [
    "import argparse"
   ]
  },
  {
   "cell_type": "markdown",
   "metadata": {},
   "source": [
    "## Testing out PostgreSQL"
   ]
  },
  {
   "cell_type": "code",
   "execution_count": null,
   "metadata": {
    "scrolled": true
   },
   "outputs": [
    {
     "name": "stdout",
     "output_type": "stream",
     "text": [
      "> /tf/src/data_pipeline.py(229)<module>()\n",
      "-> with BuildDatabase(\n",
      "(Pdb) n\n",
      "> /tf/src/data_pipeline.py(230)<module>()\n",
      "-> dataset='val2017', user=user, host=host, data_dir=coco_dir\n",
      "(Pdb) coco_dir\n",
      "'../data/'\n",
      "(Pdb) data_dir\n",
      "*** NameError: name 'data_dir' is not defined\n",
      "(Pdb) n\n",
      "> /tf/src/data_pipeline.py(26)__init__()\n",
      "-> if data_dir:\n",
      "(Pdb) data_dir\n",
      "(Pdb) self.dataset\n",
      "'val2017'\n",
      "(Pdb) self.data_dir\n"
     ]
    }
   ],
   "source": [
    "run ../src/data_pipeline.py"
   ]
  },
  {
   "cell_type": "code",
   "execution_count": 3,
   "metadata": {},
   "outputs": [
    {
     "name": "stdout",
     "output_type": "stream",
     "text": [
      "works\n"
     ]
    }
   ],
   "source": [
    "if None:\n",
    "    print('yes')\n",
    "elif not None:\n",
    "    print('works')\n",
    "else:\n",
    "    print('not work')"
   ]
  },
  {
   "cell_type": "code",
   "execution_count": 10,
   "metadata": {},
   "outputs": [],
   "source": [
    "import json\n",
    "from pprint import PrettyPrinter\n",
    "pp = PrettyPrinter()"
   ]
  },
  {
   "cell_type": "code",
   "execution_count": 6,
   "metadata": {},
   "outputs": [],
   "source": [
    "with open('../data/coco/val2017/annotations/instances_val2017.json', 'r') as file: \n",
    "    coco = json.load(file)"
   ]
  },
  {
   "cell_type": "code",
   "execution_count": 12,
   "metadata": {},
   "outputs": [
    {
     "data": {
      "text/plain": [
       "dict_keys(['annotations', 'licenses', 'info', 'images', 'categories'])"
      ]
     },
     "execution_count": 12,
     "metadata": {},
     "output_type": "execute_result"
    }
   ],
   "source": [
    "coco.keys()"
   ]
  },
  {
   "cell_type": "code",
   "execution_count": 14,
   "metadata": {},
   "outputs": [
    {
     "name": "stdout",
     "output_type": "stream",
     "text": [
      "{'contributor': 'COCO Consortium',\n",
      " 'date_created': '2017/09/01',\n",
      " 'description': 'COCO 2017 Dataset',\n",
      " 'url': 'http://cocodataset.org',\n",
      " 'version': '1.0',\n",
      " 'year': 2017}\n",
      "[{'id': 1,\n",
      "  'name': 'Attribution-NonCommercial-ShareAlike License',\n",
      "  'url': 'http://creativecommons.org/licenses/by-nc-sa/2.0/'},\n",
      " {'id': 2,\n",
      "  'name': 'Attribution-NonCommercial License',\n",
      "  'url': 'http://creativecommons.org/licenses/by-nc/2.0/'},\n",
      " {'id': 3,\n",
      "  'name': 'Attribution-NonCommercial-NoDerivs License',\n",
      "  'url': 'http://creativecommons.org/licenses/by-nc-nd/2.0/'},\n",
      " {'id': 4,\n",
      "  'name': 'Attribution License',\n",
      "  'url': 'http://creativecommons.org/licenses/by/2.0/'},\n",
      " {'id': 5,\n",
      "  'name': 'Attribution-ShareAlike License',\n",
      "  'url': 'http://creativecommons.org/licenses/by-sa/2.0/'},\n",
      " {'id': 6,\n",
      "  'name': 'Attribution-NoDerivs License',\n",
      "  'url': 'http://creativecommons.org/licenses/by-nd/2.0/'},\n",
      " {'id': 7,\n",
      "  'name': 'No known copyright restrictions',\n",
      "  'url': 'http://flickr.com/commons/usage/'},\n",
      " {'id': 8,\n",
      "  'name': 'United States Government Work',\n",
      "  'url': 'http://www.usa.gov/copyright.shtml'}]\n"
     ]
    }
   ],
   "source": [
    "pp.pprint(coco['info'])\n",
    "pp.pprint(coco['licenses'])"
   ]
  },
  {
   "cell_type": "code",
   "execution_count": null,
   "metadata": {},
   "outputs": [],
   "source": [
    "pp.pprint(coco['annotations'])"
   ]
  },
  {
   "cell_type": "code",
   "execution_count": 16,
   "metadata": {},
   "outputs": [
    {
     "name": "stdout",
     "output_type": "stream",
     "text": [
      "Collecting requests\n",
      "\u001b[?25l  Downloading https://files.pythonhosted.org/packages/7d/e3/20f3d364d6c8e5d2353c72a67778eb189176f08e873c9900e10c0287b84b/requests-2.21.0-py2.py3-none-any.whl (57kB)\n",
      "\u001b[K    100% |████████████████████████████████| 61kB 2.7MB/s ta 0:00:011\n",
      "\u001b[?25hCollecting urllib3<1.25,>=1.21.1 (from requests)\n",
      "\u001b[?25l  Downloading https://files.pythonhosted.org/packages/df/1c/59cca3abf96f991f2ec3131a4ffe72ae3d9ea1f5894abe8a9c5e3c77cfee/urllib3-1.24.2-py2.py3-none-any.whl (131kB)\n",
      "\u001b[K    100% |████████████████████████████████| 133kB 8.8MB/s ta 0:00:01\n",
      "\u001b[?25hCollecting chardet<3.1.0,>=3.0.2 (from requests)\n",
      "\u001b[?25l  Downloading https://files.pythonhosted.org/packages/bc/a9/01ffebfb562e4274b6487b4bb1ddec7ca55ec7510b22e4c51f14098443b8/chardet-3.0.4-py2.py3-none-any.whl (133kB)\n",
      "\u001b[K    100% |████████████████████████████████| 143kB 43.4MB/s ta 0:00:01\n",
      "\u001b[?25hCollecting certifi>=2017.4.17 (from requests)\n",
      "\u001b[?25l  Downloading https://files.pythonhosted.org/packages/60/75/f692a584e85b7eaba0e03827b3d51f45f571c2e793dd731e598828d380aa/certifi-2019.3.9-py2.py3-none-any.whl (158kB)\n",
      "\u001b[K    100% |████████████████████████████████| 163kB 42.1MB/s ta 0:00:01\n",
      "\u001b[?25hCollecting idna<2.9,>=2.5 (from requests)\n",
      "\u001b[?25l  Downloading https://files.pythonhosted.org/packages/14/2c/cd551d81dbe15200be1cf41cd03869a46fe7226e7450af7a6545bfc474c9/idna-2.8-py2.py3-none-any.whl (58kB)\n",
      "\u001b[K    100% |████████████████████████████████| 61kB 32.2MB/s ta 0:00:01\n",
      "\u001b[?25hInstalling collected packages: urllib3, chardet, certifi, idna, requests\n",
      "Successfully installed certifi-2019.3.9 chardet-3.0.4 idna-2.8 requests-2.21.0 urllib3-1.24.2\n"
     ]
    }
   ],
   "source": [
    "!pip install requests"
   ]
  }
 ],
 "metadata": {
  "kernelspec": {
   "display_name": "Python 3",
   "language": "python",
   "name": "python3"
  },
  "language_info": {
   "codemirror_mode": {
    "name": "ipython",
    "version": 3
   },
   "file_extension": ".py",
   "mimetype": "text/x-python",
   "name": "python",
   "nbconvert_exporter": "python",
   "pygments_lexer": "ipython3",
   "version": "3.5.2"
  }
 },
 "nbformat": 4,
 "nbformat_minor": 2
}
