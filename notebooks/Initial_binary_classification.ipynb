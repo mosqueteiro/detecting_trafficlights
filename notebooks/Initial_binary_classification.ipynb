{
 "cells": [
  {
   "cell_type": "markdown",
   "metadata": {},
   "source": [
    "# Half-size, adapted AlexNet"
   ]
  },
  {
   "cell_type": "code",
   "execution_count": 25,
   "metadata": {},
   "outputs": [],
   "source": [
    "import tensorflow as tf\n",
    "from keras import optimizers\n",
    "from keras.models import Sequential, Model, load_model\n",
    "from keras.layers import Dense, Dropout, Activation, Flatten\n",
    "from keras.layers import Convolution2D, MaxPooling2D, BatchNormalization\n",
    "from keras.layers.convolutional import Conv2D\n",
    "from keras.utils import np_utils\n",
    "from keras.callbacks import TensorBoard, EarlyStopping, ModelCheckpoint\n",
    "from keras.preprocessing.image import ImageDataGenerator\n",
    "from keras.preprocessing.image import array_to_img, img_to_array, load_img\n",
    "from sklearn.model_selection import train_test_split, KFold\n",
    "import sklearn.metrics as metrics\n",
    "\n",
    "from math import ceil\n",
    "import numpy as np\n",
    "import pandas as pd\n",
    "import matplotlib.pyplot as plt\n",
    "np.random.seed(1337)\n",
    "\n",
    "import sys\n",
    "sys.path.append('../src')\n",
    "from data_pipeline import QueryDatabase\n",
    "from trafficlight_data import load_binary_train"
   ]
  },
  {
   "cell_type": "code",
   "execution_count": 3,
   "metadata": {},
   "outputs": [],
   "source": [
    "train_args = {'dataset':'train2017', 'host':'pg_serv', 'user':'postgres', 'data_dir':'../data/coco/'}\n",
    "val_args = {'dataset':'val2017', 'host':'pg_serv', 'user':'postgres', 'data_dir':'../data/coco/'}"
   ]
  },
  {
   "cell_type": "code",
   "execution_count": 14,
   "metadata": {},
   "outputs": [
    {
     "name": "stdout",
     "output_type": "stream",
     "text": [
      "Connecting to PostgreSQL server....\n",
      "\tConnected.\n"
     ]
    }
   ],
   "source": [
    "X, y = load_binary_train(**train_args)"
   ]
  },
  {
   "cell_type": "code",
   "execution_count": 16,
   "metadata": {},
   "outputs": [],
   "source": [
    "label = ['not_tl','traffic_light']\n",
    "y_label = y.apply(lambda i: label[1] if i == 1 else label[0])\n",
    "mask_tl = y == 1\n",
    "df = X.join(y_label)\n",
    "undersample = np.random.choice(df[~mask_tl].index, size=5000, replace=False)\n",
    "df_sample = df.loc[mask_tl].append(df.loc[undersample])"
   ]
  },
  {
   "cell_type": "markdown",
   "metadata": {},
   "source": [
    "### Model"
   ]
  },
  {
   "cell_type": "code",
   "execution_count": 17,
   "metadata": {},
   "outputs": [],
   "source": [
    "def rgb_like_AlexNet(input_shape):\n",
    "    model = Sequential()\n",
    "    model.add(Conv2D(48, 7, strides=2, input_shape=(*input_shape, 3)))\n",
    "    model.add(Activation('relu'))\n",
    "    model.add(BatchNormalization())\n",
    "    model.add(MaxPooling2D(2))\n",
    "    # model.add(Dropout(0.5))\n",
    "    # 100x100 -> 28x28\n",
    "\n",
    "    model.add(Conv2D(128, 5, strides=1, padding='same'))\n",
    "    model.add(Activation('relu'))\n",
    "    model.add(BatchNormalization())\n",
    "    model.add(MaxPooling2D(2))\n",
    "    # 28x28 -> 19x19\n",
    "\n",
    "    model.add(Conv2D(192, 3, strides=2))\n",
    "    model.add(Activation('relu'))\n",
    "    # 19x19 -> 9x9\n",
    "    model.add(BatchNormalization())\n",
    "\n",
    "    model.add(Flatten())\n",
    "    model.add(Dense(2048, activation='relu'))\n",
    "    model.add(Dropout(0.5))\n",
    "\n",
    "    model.add(Dense(2048, activation='relu'))\n",
    "    model.add(Dropout(0.5))\n",
    "\n",
    "    model.add(Dense(1, activation='sigmoid'))\n",
    "    adam = optimizers.Adam()\n",
    "    model.compile('adam', loss='binary_crossentropy', metrics=['acc'])\n",
    "\n",
    "    return model"
   ]
  },
  {
   "cell_type": "markdown",
   "metadata": {},
   "source": [
    "### Training functions"
   ]
  },
  {
   "cell_type": "code",
   "execution_count": 6,
   "metadata": {},
   "outputs": [],
   "source": [
    "def train_model(model, train_gen, test_gen, steps, val_steps, **kwargs):\n",
    "    '''\n",
    "    '''\n",
    "    kw = {\n",
    "        'epochs':5,\n",
    "        'initial_epoch': 0,\n",
    "        'callbacks': []\n",
    "    }\n",
    "    kw.update(kwargs)\n",
    "\n",
    "    history = model.fit_generator(\n",
    "        train_gen,\n",
    "        steps_per_epoch=steps,\n",
    "        epochs=kw['epochs'],\n",
    "        verbose=1,\n",
    "        validation_data=test_gen,\n",
    "        validation_steps=val_steps,\n",
    "        callbacks=kw['callbacks'],\n",
    "        initial_epoch=kw['initial_epoch']\n",
    "    )\n",
    "    return history"
   ]
  },
  {
   "cell_type": "code",
   "execution_count": 7,
   "metadata": {},
   "outputs": [],
   "source": [
    "def plot_acc(history, fig=None):\n",
    "    metrics = {'acc':[], 'val_acc':[]}\n",
    "    for hist in history:\n",
    "        for k,v in hist.history.items():\n",
    "            metrics[k] = metrics.get(k, []) + v\n",
    "    if isinstance(fig, type(plt.figure())):\n",
    "        ax = fig.axes[0]\n",
    "    else:\n",
    "        fig, ax = plt.subplots(figsize=(10,8))\n",
    "    ax.plot(metrics['acc'], label='train')\n",
    "    ax.plot(metrics['val_acc'], label='test')\n",
    "    ax.set_xlabel('Epochs')\n",
    "    ax.set_ylabel('Accuracy')\n",
    "    ax.set_title('Accuracy per Epoch')\n",
    "    fig.show()"
   ]
  },
  {
   "cell_type": "markdown",
   "metadata": {},
   "source": [
    "### Callbacks"
   ]
  },
  {
   "cell_type": "code",
   "execution_count": null,
   "metadata": {},
   "outputs": [],
   "source": [
    "# add callbacks\n",
    "tensorBoard = TensorBoard(log_dir='../tb_log', histogram_freq=2,\n",
    "                          batch_size=batch_size, write_graph=True,\n",
    "                          write_grads=False, write_images=True)\n",
    "modelCheckpoint = ModelCheckpoint(\n",
    "    '../models/binary_epoch{epoch:02d}.hdf5',\n",
    "    verbose=1, period=1\n",
    ")"
   ]
  },
  {
   "cell_type": "markdown",
   "metadata": {},
   "source": [
    "### Training parameters"
   ]
  },
  {
   "cell_type": "code",
   "execution_count": 24,
   "metadata": {
    "scrolled": true
   },
   "outputs": [],
   "source": [
    "batch_size = 500\n",
    "val_split = 0.10\n",
    "steps = ceil(len(df_sample)*(1-val_split) / batch_size)\n",
    "val_steps = ceil(len(df_sample)*val_split / batch_size)\n",
    "target_size = (100,100)\n",
    "epochs = 10\n",
    "initial_epoch = 0"
   ]
  },
  {
   "cell_type": "markdown",
   "metadata": {},
   "source": [
    "### Data Generators"
   ]
  },
  {
   "cell_type": "code",
   "execution_count": 22,
   "metadata": {},
   "outputs": [
    {
     "name": "stdout",
     "output_type": "stream",
     "text": [
      "Found 8226 images belonging to 2 classes.\n",
      "Found 913 images belonging to 2 classes.\n"
     ]
    }
   ],
   "source": [
    "df_datagen = ImageDataGenerator(shear_range=0.2,\n",
    "                                zoom_range=0.2,\n",
    "                                horizontal_flip=True,\n",
    "                                validation_split=val_split)\n",
    "train_generator = df_datagen.flow_from_dataframe(\n",
    "                    df_sample,\n",
    "                    x_col='local_path',\n",
    "                    y_col='category',\n",
    "                    target_size=target_size,\n",
    "                    color_mode='rgb',\n",
    "                    class_mode='binary',\n",
    "                    batch_size=batch_size,\n",
    "                    subset='training'\n",
    "                    )\n",
    "test_generator = df_datagen.flow_from_dataframe(\n",
    "                    df_sample,\n",
    "                    x_col='local_path',\n",
    "                    y_col='category',\n",
    "                    target_size=target_size,\n",
    "                    color_mode='rgb',\n",
    "                    class_mode='binary',\n",
    "                    batch_size=batch_size,\n",
    "                    subset='validation'\n",
    "                    )"
   ]
  },
  {
   "cell_type": "markdown",
   "metadata": {},
   "source": [
    "### Model compilation and training"
   ]
  },
  {
   "cell_type": "code",
   "execution_count": 23,
   "metadata": {},
   "outputs": [
    {
     "name": "stdout",
     "output_type": "stream",
     "text": [
      "WARNING:tensorflow:From /usr/local/lib/python3.5/dist-packages/tensorflow/python/framework/op_def_library.py:263: colocate_with (from tensorflow.python.framework.ops) is deprecated and will be removed in a future version.\n",
      "Instructions for updating:\n",
      "Colocations handled automatically by placer.\n",
      "WARNING:tensorflow:From /usr/local/lib/python3.5/dist-packages/keras/backend/tensorflow_backend.py:3445: calling dropout (from tensorflow.python.ops.nn_ops) with keep_prob is deprecated and will be removed in a future version.\n",
      "Instructions for updating:\n",
      "Please use `rate` instead of `keep_prob`. Rate should be set to `rate = 1 - keep_prob`.\n",
      "WARNING:tensorflow:From /usr/local/lib/python3.5/dist-packages/tensorflow/python/ops/math_ops.py:3066: to_int32 (from tensorflow.python.ops.math_ops) is deprecated and will be removed in a future version.\n",
      "Instructions for updating:\n",
      "Use tf.cast instead.\n",
      "Epoch 1/10\n",
      "165/165 [==============================] - 402s 2s/step - loss: 0.9417 - acc: 0.5726 - val_loss: 0.7987 - val_acc: 0.3111\n",
      "Epoch 2/10\n",
      "165/165 [==============================] - 136s 824ms/step - loss: 0.6543 - acc: 0.6163 - val_loss: 0.8969 - val_acc: 0.2508\n",
      "Epoch 3/10\n",
      "165/165 [==============================] - 137s 832ms/step - loss: 0.6470 - acc: 0.6300 - val_loss: 0.8989 - val_acc: 0.2278\n",
      "Epoch 4/10\n",
      "165/165 [==============================] - 137s 832ms/step - loss: 0.6324 - acc: 0.6373 - val_loss: 1.9270 - val_acc: 0.0843\n",
      "Epoch 5/10\n",
      "165/165 [==============================] - 137s 831ms/step - loss: 0.6314 - acc: 0.6456 - val_loss: 0.7206 - val_acc: 0.4447\n",
      "Epoch 6/10\n",
      "165/165 [==============================] - 137s 832ms/step - loss: 0.6228 - acc: 0.6530 - val_loss: 1.5296 - val_acc: 0.0931\n",
      "Epoch 7/10\n",
      "165/165 [==============================] - 138s 835ms/step - loss: 0.6136 - acc: 0.6587 - val_loss: 0.9363 - val_acc: 0.3439\n",
      "Epoch 8/10\n",
      "165/165 [==============================] - 139s 840ms/step - loss: 0.6069 - acc: 0.6702 - val_loss: 0.6898 - val_acc: 0.5378\n",
      "Epoch 9/10\n",
      "165/165 [==============================] - 137s 832ms/step - loss: 0.6025 - acc: 0.6728 - val_loss: 0.7636 - val_acc: 0.3713\n",
      "Epoch 10/10\n",
      "165/165 [==============================] - 139s 840ms/step - loss: 0.5952 - acc: 0.6720 - val_loss: 1.5884 - val_acc: 0.1106\n"
     ]
    }
   ],
   "source": [
    "model = rgb_AlexNet(target_size)\n",
    "# model = load_model('../models/binary_epoch1_half_size.hdf5')\n",
    "# history = model.fit_generator(\n",
    "#     train_generator,\n",
    "#     steps_per_epoch=ceil(len(df) / batch_size),\n",
    "#     epochs=epochs,\n",
    "#     verbose=1,\n",
    "#     validation_data=test_generator,\n",
    "#     validation_steps=ceil(len(df)*0.1 / batch_size),\n",
    "#     # callbacks=[modelCheckpoint],\n",
    "#     initial_epoch=initial_epoch\n",
    "# )\n",
    "history = train_model(model, train_generator, test_generator, steps,\n",
    "            val_steps=val_steps, epochs=epochs, initial_epoch=initial_epoch)\n",
    "\n",
    "score = model.evaluate_generator(test_generator,\n",
    "                                len(test_generator),\n",
    "                                verbose=0)"
   ]
  },
  {
   "cell_type": "code",
   "execution_count": null,
   "metadata": {},
   "outputs": [],
   "source": []
  }
 ],
 "metadata": {
  "kernelspec": {
   "display_name": "Python 3",
   "language": "python",
   "name": "python3"
  },
  "language_info": {
   "codemirror_mode": {
    "name": "ipython",
    "version": 3
   },
   "file_extension": ".py",
   "mimetype": "text/x-python",
   "name": "python",
   "nbconvert_exporter": "python",
   "pygments_lexer": "ipython3",
   "version": "3.5.2"
  }
 },
 "nbformat": 4,
 "nbformat_minor": 2
}
